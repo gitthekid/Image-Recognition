{
 "cells": [
  {
   "cell_type": "code",
   "execution_count": 1,
   "metadata": {},
   "outputs": [],
   "source": [
    "import numpy as np\n",
    "import pandas as pd\n",
    "import matplotlib.pyplot as plt\n",
    "from sklearn.preprocessing import StandardScaler\n",
    "from sklearn.model_selection import GridSearchCV, train_test_split\n",
    "from sklearn.svm import LinearSVC, SVC\n",
    "from sklearn import datasets\n",
    "from sklearn.metrics import accuracy_score, precision_score, recall_score\n",
    "import os\n",
    "import cv2"
   ]
  },
  {
   "cell_type": "code",
   "execution_count": null,
   "metadata": {},
   "outputs": [],
   "source": [
    "trainpath = './archive/seg_train/seg_train/'\n",
    "categories=os.listdir(trainpath)"
   ]
  },
  {
   "cell_type": "markdown",
   "metadata": {},
   "source": [
    "Making a variable equal to the file path with the train data."
   ]
  },
  {
   "cell_type": "code",
   "execution_count": null,
   "metadata": {},
   "outputs": [],
   "source": [
    "x_1=[]\n",
    "labels = []"
   ]
  },
  {
   "cell_type": "markdown",
   "metadata": {},
   "source": [
    "Making empty lists to append to in the for loop."
   ]
  },
  {
   "cell_type": "code",
   "execution_count": null,
   "metadata": {},
   "outputs": [],
   "source": [
    "for i in categories:\n",
    "    print(i)\n",
    "    path=os.path.join(trainpath,i)\n",
    "    #class_num=categories.index(i) #creates labels for the classification\n",
    "    for img in os.listdir(path):\n",
    "        img_array=cv2.imread(os.path.join(path,img),cv2.IMREAD_GRAYSCALE)\n",
    "        #print(img)\n",
    "        img_array=cv2.resize(img_array,(25,25))\n",
    "        x_1.append(img_array)\n",
    "        labels.append(i)"
   ]
  },
  {
   "cell_type": "markdown",
   "metadata": {},
   "source": [
    "This for loop appends the name of the image category to labels, and appends a 25x25 array of the pixels of each image to x_1."
   ]
  },
  {
   "cell_type": "code",
   "execution_count": null,
   "metadata": {},
   "outputs": [],
   "source": [
    "len(x_1)\n",
    "x_1[0].shape\n",
    "x_1[0].reshape(1,-1)\n",
    "x_1[0][0].shape"
   ]
  },
  {
   "cell_type": "markdown",
   "metadata": {},
   "source": [
    "This reshapes the dimensions of the array."
   ]
  },
  {
   "cell_type": "code",
   "execution_count": null,
   "metadata": {},
   "outputs": [],
   "source": [
    "categories[0:10]\n",
    "df = pd.DataFrame()"
   ]
  },
  {
   "cell_type": "markdown",
   "metadata": {},
   "source": [
    "Here we check to see that there are 6 categories, and we create an empty dataframe. "
   ]
  },
  {
   "cell_type": "code",
   "execution_count": 2,
   "metadata": {
    "scrolled": true
   },
   "outputs": [
    {
     "name": "stdout",
     "output_type": "stream",
     "text": [
      "forest\n",
      "buildings\n",
      "glacier\n",
      "street\n",
      "mountain\n",
      "sea\n"
     ]
    },
    {
     "data": {
      "text/html": [
       "<div>\n",
       "<style scoped>\n",
       "    .dataframe tbody tr th:only-of-type {\n",
       "        vertical-align: middle;\n",
       "    }\n",
       "\n",
       "    .dataframe tbody tr th {\n",
       "        vertical-align: top;\n",
       "    }\n",
       "\n",
       "    .dataframe thead th {\n",
       "        text-align: right;\n",
       "    }\n",
       "</style>\n",
       "<table border=\"1\" class=\"dataframe\">\n",
       "  <thead>\n",
       "    <tr style=\"text-align: right;\">\n",
       "      <th></th>\n",
       "      <th>0</th>\n",
       "      <th>1</th>\n",
       "      <th>2</th>\n",
       "      <th>3</th>\n",
       "      <th>4</th>\n",
       "      <th>5</th>\n",
       "      <th>6</th>\n",
       "      <th>7</th>\n",
       "      <th>8</th>\n",
       "      <th>9</th>\n",
       "      <th>...</th>\n",
       "      <th>616</th>\n",
       "      <th>617</th>\n",
       "      <th>618</th>\n",
       "      <th>619</th>\n",
       "      <th>620</th>\n",
       "      <th>621</th>\n",
       "      <th>622</th>\n",
       "      <th>623</th>\n",
       "      <th>624</th>\n",
       "      <th>label</th>\n",
       "    </tr>\n",
       "  </thead>\n",
       "  <tbody>\n",
       "    <tr>\n",
       "      <th>0</th>\n",
       "      <td>72</td>\n",
       "      <td>180</td>\n",
       "      <td>123</td>\n",
       "      <td>56</td>\n",
       "      <td>76</td>\n",
       "      <td>32</td>\n",
       "      <td>31</td>\n",
       "      <td>37</td>\n",
       "      <td>27</td>\n",
       "      <td>58</td>\n",
       "      <td>...</td>\n",
       "      <td>39</td>\n",
       "      <td>50</td>\n",
       "      <td>35</td>\n",
       "      <td>30</td>\n",
       "      <td>30</td>\n",
       "      <td>17</td>\n",
       "      <td>32</td>\n",
       "      <td>26</td>\n",
       "      <td>35</td>\n",
       "      <td>forest</td>\n",
       "    </tr>\n",
       "    <tr>\n",
       "      <th>1</th>\n",
       "      <td>98</td>\n",
       "      <td>6</td>\n",
       "      <td>170</td>\n",
       "      <td>231</td>\n",
       "      <td>118</td>\n",
       "      <td>123</td>\n",
       "      <td>138</td>\n",
       "      <td>27</td>\n",
       "      <td>135</td>\n",
       "      <td>116</td>\n",
       "      <td>...</td>\n",
       "      <td>46</td>\n",
       "      <td>26</td>\n",
       "      <td>29</td>\n",
       "      <td>78</td>\n",
       "      <td>52</td>\n",
       "      <td>31</td>\n",
       "      <td>44</td>\n",
       "      <td>36</td>\n",
       "      <td>29</td>\n",
       "      <td>forest</td>\n",
       "    </tr>\n",
       "    <tr>\n",
       "      <th>2</th>\n",
       "      <td>53</td>\n",
       "      <td>142</td>\n",
       "      <td>114</td>\n",
       "      <td>127</td>\n",
       "      <td>144</td>\n",
       "      <td>97</td>\n",
       "      <td>132</td>\n",
       "      <td>95</td>\n",
       "      <td>79</td>\n",
       "      <td>76</td>\n",
       "      <td>...</td>\n",
       "      <td>39</td>\n",
       "      <td>47</td>\n",
       "      <td>49</td>\n",
       "      <td>33</td>\n",
       "      <td>54</td>\n",
       "      <td>48</td>\n",
       "      <td>49</td>\n",
       "      <td>33</td>\n",
       "      <td>51</td>\n",
       "      <td>forest</td>\n",
       "    </tr>\n",
       "    <tr>\n",
       "      <th>3</th>\n",
       "      <td>11</td>\n",
       "      <td>4</td>\n",
       "      <td>7</td>\n",
       "      <td>11</td>\n",
       "      <td>13</td>\n",
       "      <td>20</td>\n",
       "      <td>24</td>\n",
       "      <td>153</td>\n",
       "      <td>41</td>\n",
       "      <td>16</td>\n",
       "      <td>...</td>\n",
       "      <td>100</td>\n",
       "      <td>88</td>\n",
       "      <td>35</td>\n",
       "      <td>40</td>\n",
       "      <td>47</td>\n",
       "      <td>150</td>\n",
       "      <td>97</td>\n",
       "      <td>26</td>\n",
       "      <td>19</td>\n",
       "      <td>forest</td>\n",
       "    </tr>\n",
       "    <tr>\n",
       "      <th>4</th>\n",
       "      <td>126</td>\n",
       "      <td>140</td>\n",
       "      <td>118</td>\n",
       "      <td>112</td>\n",
       "      <td>100</td>\n",
       "      <td>100</td>\n",
       "      <td>163</td>\n",
       "      <td>163</td>\n",
       "      <td>176</td>\n",
       "      <td>189</td>\n",
       "      <td>...</td>\n",
       "      <td>148</td>\n",
       "      <td>144</td>\n",
       "      <td>146</td>\n",
       "      <td>168</td>\n",
       "      <td>147</td>\n",
       "      <td>118</td>\n",
       "      <td>97</td>\n",
       "      <td>56</td>\n",
       "      <td>60</td>\n",
       "      <td>forest</td>\n",
       "    </tr>\n",
       "  </tbody>\n",
       "</table>\n",
       "<p>5 rows × 626 columns</p>\n",
       "</div>"
      ],
      "text/plain": [
       "     0    1    2    3    4    5    6    7    8    9  ...  616  617  618  619  \\\n",
       "0   72  180  123   56   76   32   31   37   27   58  ...   39   50   35   30   \n",
       "1   98    6  170  231  118  123  138   27  135  116  ...   46   26   29   78   \n",
       "2   53  142  114  127  144   97  132   95   79   76  ...   39   47   49   33   \n",
       "3   11    4    7   11   13   20   24  153   41   16  ...  100   88   35   40   \n",
       "4  126  140  118  112  100  100  163  163  176  189  ...  148  144  146  168   \n",
       "\n",
       "   620  621  622  623  624   label  \n",
       "0   30   17   32   26   35  forest  \n",
       "1   52   31   44   36   29  forest  \n",
       "2   54   48   49   33   51  forest  \n",
       "3   47  150   97   26   19  forest  \n",
       "4  147  118   97   56   60  forest  \n",
       "\n",
       "[5 rows x 626 columns]"
      ]
     },
     "execution_count": 2,
     "metadata": {},
     "output_type": "execute_result"
    }
   ],
   "source": [
    "for ele in x_1:\n",
    "    reshapedarr = pd.DataFrame(ele.reshape(1,-1))\n",
    "    df = pd.concat(([df, reshapedarr]), axis = 0)\n",
    "df.head()\n",
    "df.reset_index(inplace=True, drop = True)\n",
    "df['label'] = labels\n",
    "df.head()"
   ]
  },
  {
   "cell_type": "markdown",
   "metadata": {},
   "source": [
    "In this we concatenate the reshaped array of pixel data to a dataframe which has 625 columns because 25 multiplied by 25 equals 625, so it is processing all the pixels in each image into columns. We then add a labels column filled with the values of the labels variable we defined earlier."
   ]
  },
  {
   "cell_type": "code",
   "execution_count": 3,
   "metadata": {},
   "outputs": [],
   "source": [
    "df['label'] = df['label'].map({'forest': 0,\n",
    "                'buildings': 1,\n",
    "                'glacier': 2,\n",
    "                'street': 3,\n",
    "                'mountain': 4,\n",
    "                'sea': 5})"
   ]
  },
  {
   "cell_type": "markdown",
   "metadata": {},
   "source": [
    "Here we convert the label values from a string to an integer, so we can fit and run our models."
   ]
  },
  {
   "cell_type": "code",
   "execution_count": 6,
   "metadata": {},
   "outputs": [],
   "source": [
    "X = df.drop(columns = \"label\")\n",
    "y = df[\"label\"]\n",
    "\n",
    "X_train, X_test, y_train, y_test = train_test_split(X, y, test_size = 0.25, random_state = 42)"
   ]
  },
  {
   "cell_type": "markdown",
   "metadata": {},
   "source": [
    "Here we fit the data to predict the \"label\" column using all the pixel data from each image."
   ]
  },
  {
   "cell_type": "code",
   "execution_count": 10,
   "metadata": {},
   "outputs": [
    {
     "data": {
      "text/plain": [
       "4    0.187233\n",
       "3    0.175264\n",
       "1    0.165004\n",
       "2    0.162154\n",
       "0    0.160160\n",
       "5    0.150185\n",
       "Name: label, dtype: float64"
      ]
     },
     "execution_count": 10,
     "metadata": {},
     "output_type": "execute_result"
    }
   ],
   "source": [
    "y_test.value_counts(normalize = True)"
   ]
  },
  {
   "cell_type": "markdown",
   "metadata": {},
   "source": [
    "Here is the null model."
   ]
  },
  {
   "cell_type": "code",
   "execution_count": 7,
   "metadata": {},
   "outputs": [
    {
     "name": "stdout",
     "output_type": "stream",
     "text": [
      "0.5320604160729553\n"
     ]
    }
   ],
   "source": [
    "# Instantiate support vector machine.\n",
    "svc = SVC(gamma=\"scale\")\n",
    "\n",
    "# Fit support vector machine to training data.\n",
    "svc.fit(X_train, y_train)\n",
    "\n",
    "# Generate predictions.\n",
    "y_pred = svc.predict(X_test)\n",
    "\n",
    "# score on test\n",
    "print(accuracy_score(y_test, y_pred))"
   ]
  },
  {
   "cell_type": "code",
   "execution_count": 11,
   "metadata": {},
   "outputs": [
    {
     "name": "stdout",
     "output_type": "stream",
     "text": [
      "Coef [[-2.33614077e-04  8.13348742e-06  1.36720271e-03 ... -1.56287901e-04\n",
      "  -9.59987039e-05  6.29679028e-04]\n",
      " [ 4.07246976e-04 -4.31395522e-05 -1.93118068e-04 ...  7.18619630e-04\n",
      "  -9.51698905e-04  3.19147205e-04]\n",
      " [ 5.38763089e-04 -4.16306825e-05 -8.83822483e-05 ...  1.65529392e-05\n",
      "  -6.59606045e-05 -2.53690566e-04]\n",
      " [-1.03688050e-03 -9.30152238e-04 -4.72795890e-04 ... -1.23536450e-05\n",
      "   3.68551142e-05 -3.37704391e-04]\n",
      " [ 5.37376377e-04  6.82762962e-04 -2.96253241e-04 ...  1.09933545e-04\n",
      "   3.56250161e-04 -1.17700401e-03]\n",
      " [ 2.09788630e-04  4.57114851e-04 -3.89229824e-04 ...  1.22042326e-05\n",
      "  -2.82615596e-04 -3.86001842e-04]]\n",
      "Intercept [ 0.09005228 -0.08000026 -0.14756719 -0.05710031 -0.09080046 -0.11306718]\n"
     ]
    },
    {
     "name": "stderr",
     "output_type": "stream",
     "text": [
      "/opt/anaconda3/lib/python3.8/site-packages/sklearn/svm/_base.py:976: ConvergenceWarning: Liblinear failed to converge, increase the number of iterations.\n",
      "  warnings.warn(\"Liblinear failed to converge, increase \"\n"
     ]
    }
   ],
   "source": [
    "lsvc = LinearSVC(random_state=0,tol=1e-5)\n",
    "lsvc.fit(X_train,y_train)\n",
    "print('Coef',lsvc.coef_)\n",
    "print('Intercept',lsvc.intercept_)"
   ]
  },
  {
   "cell_type": "code",
   "execution_count": 13,
   "metadata": {},
   "outputs": [
    {
     "data": {
      "text/plain": [
       "0.1866628669136506"
      ]
     },
     "execution_count": 13,
     "metadata": {},
     "output_type": "execute_result"
    }
   ],
   "source": [
    "accuracy_score(y_test, lsvc.predict(X_test))"
   ]
  },
  {
   "cell_type": "code",
   "execution_count": 17,
   "metadata": {},
   "outputs": [],
   "source": [
    "from sklearn.pipeline import Pipeline\n",
    "from sklearn.naive_bayes import MultinomialNB"
   ]
  },
  {
   "cell_type": "code",
   "execution_count": 18,
   "metadata": {},
   "outputs": [
    {
     "name": "stdout",
     "output_type": "stream",
     "text": [
      "Fitting 5 folds for each of 1 candidates, totalling 5 fits\n"
     ]
    },
    {
     "name": "stderr",
     "output_type": "stream",
     "text": [
      "[Parallel(n_jobs=1)]: Using backend SequentialBackend with 1 concurrent workers.\n",
      "[Parallel(n_jobs=1)]: Done   5 out of   5 | elapsed:    1.1s finished\n"
     ]
    },
    {
     "data": {
      "text/plain": [
       "GridSearchCV(cv=5, estimator=Pipeline(steps=[('nb', MultinomialNB())]),\n",
       "             param_grid={}, verbose=1)"
      ]
     },
     "execution_count": 18,
     "metadata": {},
     "output_type": "execute_result"
    }
   ],
   "source": [
    "pipe = Pipeline([\n",
    "    ('nb', MultinomialNB())\n",
    "])\n",
    "pipe_params = {}\n",
    "\n",
    "bayes_model = GridSearchCV(pipe, \n",
    "                  param_grid=pipe_params, \n",
    "                  cv=5, verbose = 1)\n",
    "bayes_model.fit(X_train, y_train)"
   ]
  },
  {
   "cell_type": "code",
   "execution_count": 19,
   "metadata": {
    "scrolled": true
   },
   "outputs": [
    {
     "data": {
      "text/plain": [
       "0.3211741236819607"
      ]
     },
     "execution_count": 19,
     "metadata": {},
     "output_type": "execute_result"
    }
   ],
   "source": [
    "accuracy_score(y_test, bayes_model.predict(X_test))"
   ]
  },
  {
   "cell_type": "code",
   "execution_count": 21,
   "metadata": {},
   "outputs": [],
   "source": [
    "from sklearn.linear_model import LogisticRegression, LogisticRegressionCV"
   ]
  },
  {
   "cell_type": "code",
   "execution_count": 22,
   "metadata": {},
   "outputs": [
    {
     "name": "stderr",
     "output_type": "stream",
     "text": [
      "/opt/anaconda3/lib/python3.8/site-packages/sklearn/linear_model/_logistic.py:762: ConvergenceWarning: lbfgs failed to converge (status=1):\n",
      "STOP: TOTAL NO. of ITERATIONS REACHED LIMIT.\n",
      "\n",
      "Increase the number of iterations (max_iter) or scale the data as shown in:\n",
      "    https://scikit-learn.org/stable/modules/preprocessing.html\n",
      "Please also refer to the documentation for alternative solver options:\n",
      "    https://scikit-learn.org/stable/modules/linear_model.html#logistic-regression\n",
      "  n_iter_i = _check_optimize_result(\n"
     ]
    },
    {
     "data": {
      "text/plain": [
       "(0.4448456057007126, 0.32772869763465373)"
      ]
     },
     "execution_count": 22,
     "metadata": {},
     "output_type": "execute_result"
    }
   ],
   "source": [
    "lr = LogisticRegression()\n",
    "lr.fit(X_train, y_train);\n",
    "\n",
    "lr.score(X_train, y_train), lr.score(X_test, y_test)"
   ]
  },
  {
   "cell_type": "code",
   "execution_count": 23,
   "metadata": {},
   "outputs": [
    {
     "data": {
      "text/plain": [
       "0.32772869763465373"
      ]
     },
     "execution_count": 23,
     "metadata": {},
     "output_type": "execute_result"
    }
   ],
   "source": [
    "accuracy_score(y_test, lr.predict(X_test))"
   ]
  },
  {
   "cell_type": "code",
   "execution_count": 25,
   "metadata": {},
   "outputs": [],
   "source": [
    "from sklearn.model_selection import GridSearchCV, train_test_split, cross_val_score\n",
    "from sklearn.ensemble import RandomForestClassifier, ExtraTreesClassifier, BaggingClassifier"
   ]
  },
  {
   "cell_type": "code",
   "execution_count": 27,
   "metadata": {},
   "outputs": [
    {
     "name": "stdout",
     "output_type": "stream",
     "text": [
      "Fitting 5 folds for each of 108 candidates, totalling 540 fits\n"
     ]
    },
    {
     "name": "stderr",
     "output_type": "stream",
     "text": [
      "[Parallel(n_jobs=-2)]: Using backend LokyBackend with 15 concurrent workers.\n",
      "[Parallel(n_jobs=-2)]: Done  20 tasks      | elapsed:    8.2s\n",
      "[Parallel(n_jobs=-2)]: Done 170 tasks      | elapsed:   45.3s\n",
      "[Parallel(n_jobs=-2)]: Done 420 tasks      | elapsed:  2.6min\n",
      "[Parallel(n_jobs=-2)]: Done 540 out of 540 | elapsed:  3.5min finished\n"
     ]
    },
    {
     "name": "stdout",
     "output_type": "stream",
     "text": [
      "0.4522565320665083\n"
     ]
    },
    {
     "data": {
      "text/plain": [
       "{'max_depth': 5,\n",
       " 'max_features': 'auto',\n",
       " 'min_samples_leaf': 2,\n",
       " 'min_samples_split': 3,\n",
       " 'n_estimators': 200}"
      ]
     },
     "execution_count": 27,
     "metadata": {},
     "output_type": "execute_result"
    }
   ],
   "source": [
    "rf = RandomForestClassifier(random_state = 42)\n",
    "rf_params = {\n",
    "    'n_estimators': [100, 150, 200],\n",
    "    'max_depth': [3, 4, 5],\n",
    "    'min_samples_split': [3, 5, 7],\n",
    "    'min_samples_leaf': [2, 3],\n",
    "    'max_features': ['auto', 'log2']\n",
    "}\n",
    "gs_rf = GridSearchCV(rf, param_grid=rf_params, cv=5, n_jobs = -2, verbose = True)\n",
    "gs_rf.fit(X_train, y_train)\n",
    "print(gs_rf.best_score_)\n",
    "gs_rf.best_params_"
   ]
  },
  {
   "cell_type": "code",
   "execution_count": 28,
   "metadata": {},
   "outputs": [
    {
     "data": {
      "text/plain": [
       "0.4445711028783129"
      ]
     },
     "execution_count": 28,
     "metadata": {},
     "output_type": "execute_result"
    }
   ],
   "source": [
    "accuracy_score(y_test, gs_rf.predict(X_test))"
   ]
  }
 ],
 "metadata": {
  "kernelspec": {
   "display_name": "Python 3",
   "language": "python",
   "name": "python3"
  },
  "language_info": {
   "codemirror_mode": {
    "name": "ipython",
    "version": 3
   },
   "file_extension": ".py",
   "mimetype": "text/x-python",
   "name": "python",
   "nbconvert_exporter": "python",
   "pygments_lexer": "ipython3",
   "version": "3.8.5"
  }
 },
 "nbformat": 4,
 "nbformat_minor": 4
}
